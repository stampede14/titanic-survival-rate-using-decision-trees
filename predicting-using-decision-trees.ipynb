{
 "cells": [
  {
   "cell_type": "code",
   "execution_count": 1,
   "id": "b76aa978",
   "metadata": {
    "execution": {
     "iopub.execute_input": "2024-04-12T07:04:32.818326Z",
     "iopub.status.busy": "2024-04-12T07:04:32.817955Z",
     "iopub.status.idle": "2024-04-12T07:04:35.204091Z",
     "shell.execute_reply": "2024-04-12T07:04:35.203051Z"
    },
    "papermill": {
     "duration": 2.402422,
     "end_time": "2024-04-12T07:04:35.206709",
     "exception": false,
     "start_time": "2024-04-12T07:04:32.804287",
     "status": "completed"
    },
    "tags": []
   },
   "outputs": [],
   "source": [
    "import pandas as pd\n",
    "import numpy as np\n",
    "import matplotlib.pyplot as plt\n",
    "import seaborn as sns\n",
    "%matplotlib inline"
   ]
  },
  {
   "cell_type": "code",
   "execution_count": 2,
   "id": "f0217330",
   "metadata": {
    "execution": {
     "iopub.execute_input": "2024-04-12T07:04:35.231163Z",
     "iopub.status.busy": "2024-04-12T07:04:35.230657Z",
     "iopub.status.idle": "2024-04-12T07:04:35.256054Z",
     "shell.execute_reply": "2024-04-12T07:04:35.255016Z"
    },
    "papermill": {
     "duration": 0.041263,
     "end_time": "2024-04-12T07:04:35.259314",
     "exception": false,
     "start_time": "2024-04-12T07:04:35.218051",
     "status": "completed"
    },
    "tags": []
   },
   "outputs": [],
   "source": [
    "df = pd.read_csv('/kaggle/input/test-file/tested.csv')"
   ]
  },
  {
   "cell_type": "code",
   "execution_count": 3,
   "id": "a5aa6a98",
   "metadata": {
    "execution": {
     "iopub.execute_input": "2024-04-12T07:04:35.284008Z",
     "iopub.status.busy": "2024-04-12T07:04:35.283610Z",
     "iopub.status.idle": "2024-04-12T07:04:35.315999Z",
     "shell.execute_reply": "2024-04-12T07:04:35.314807Z"
    },
    "papermill": {
     "duration": 0.047911,
     "end_time": "2024-04-12T07:04:35.318523",
     "exception": false,
     "start_time": "2024-04-12T07:04:35.270612",
     "status": "completed"
    },
    "tags": []
   },
   "outputs": [
    {
     "data": {
      "text/html": [
       "<div>\n",
       "<style scoped>\n",
       "    .dataframe tbody tr th:only-of-type {\n",
       "        vertical-align: middle;\n",
       "    }\n",
       "\n",
       "    .dataframe tbody tr th {\n",
       "        vertical-align: top;\n",
       "    }\n",
       "\n",
       "    .dataframe thead th {\n",
       "        text-align: right;\n",
       "    }\n",
       "</style>\n",
       "<table border=\"1\" class=\"dataframe\">\n",
       "  <thead>\n",
       "    <tr style=\"text-align: right;\">\n",
       "      <th></th>\n",
       "      <th>PassengerId</th>\n",
       "      <th>Survived</th>\n",
       "      <th>Pclass</th>\n",
       "      <th>Name</th>\n",
       "      <th>Sex</th>\n",
       "      <th>Age</th>\n",
       "      <th>SibSp</th>\n",
       "      <th>Parch</th>\n",
       "      <th>Ticket</th>\n",
       "      <th>Fare</th>\n",
       "      <th>Cabin</th>\n",
       "      <th>Embarked</th>\n",
       "    </tr>\n",
       "  </thead>\n",
       "  <tbody>\n",
       "    <tr>\n",
       "      <th>0</th>\n",
       "      <td>892</td>\n",
       "      <td>0</td>\n",
       "      <td>3</td>\n",
       "      <td>Kelly, Mr. James</td>\n",
       "      <td>male</td>\n",
       "      <td>34.5</td>\n",
       "      <td>0</td>\n",
       "      <td>0</td>\n",
       "      <td>330911</td>\n",
       "      <td>7.8292</td>\n",
       "      <td>NaN</td>\n",
       "      <td>Q</td>\n",
       "    </tr>\n",
       "    <tr>\n",
       "      <th>1</th>\n",
       "      <td>893</td>\n",
       "      <td>1</td>\n",
       "      <td>3</td>\n",
       "      <td>Wilkes, Mrs. James (Ellen Needs)</td>\n",
       "      <td>female</td>\n",
       "      <td>47.0</td>\n",
       "      <td>1</td>\n",
       "      <td>0</td>\n",
       "      <td>363272</td>\n",
       "      <td>7.0000</td>\n",
       "      <td>NaN</td>\n",
       "      <td>S</td>\n",
       "    </tr>\n",
       "    <tr>\n",
       "      <th>2</th>\n",
       "      <td>894</td>\n",
       "      <td>0</td>\n",
       "      <td>2</td>\n",
       "      <td>Myles, Mr. Thomas Francis</td>\n",
       "      <td>male</td>\n",
       "      <td>62.0</td>\n",
       "      <td>0</td>\n",
       "      <td>0</td>\n",
       "      <td>240276</td>\n",
       "      <td>9.6875</td>\n",
       "      <td>NaN</td>\n",
       "      <td>Q</td>\n",
       "    </tr>\n",
       "    <tr>\n",
       "      <th>3</th>\n",
       "      <td>895</td>\n",
       "      <td>0</td>\n",
       "      <td>3</td>\n",
       "      <td>Wirz, Mr. Albert</td>\n",
       "      <td>male</td>\n",
       "      <td>27.0</td>\n",
       "      <td>0</td>\n",
       "      <td>0</td>\n",
       "      <td>315154</td>\n",
       "      <td>8.6625</td>\n",
       "      <td>NaN</td>\n",
       "      <td>S</td>\n",
       "    </tr>\n",
       "    <tr>\n",
       "      <th>4</th>\n",
       "      <td>896</td>\n",
       "      <td>1</td>\n",
       "      <td>3</td>\n",
       "      <td>Hirvonen, Mrs. Alexander (Helga E Lindqvist)</td>\n",
       "      <td>female</td>\n",
       "      <td>22.0</td>\n",
       "      <td>1</td>\n",
       "      <td>1</td>\n",
       "      <td>3101298</td>\n",
       "      <td>12.2875</td>\n",
       "      <td>NaN</td>\n",
       "      <td>S</td>\n",
       "    </tr>\n",
       "    <tr>\n",
       "      <th>...</th>\n",
       "      <td>...</td>\n",
       "      <td>...</td>\n",
       "      <td>...</td>\n",
       "      <td>...</td>\n",
       "      <td>...</td>\n",
       "      <td>...</td>\n",
       "      <td>...</td>\n",
       "      <td>...</td>\n",
       "      <td>...</td>\n",
       "      <td>...</td>\n",
       "      <td>...</td>\n",
       "      <td>...</td>\n",
       "    </tr>\n",
       "    <tr>\n",
       "      <th>413</th>\n",
       "      <td>1305</td>\n",
       "      <td>0</td>\n",
       "      <td>3</td>\n",
       "      <td>Spector, Mr. Woolf</td>\n",
       "      <td>male</td>\n",
       "      <td>NaN</td>\n",
       "      <td>0</td>\n",
       "      <td>0</td>\n",
       "      <td>A.5. 3236</td>\n",
       "      <td>8.0500</td>\n",
       "      <td>NaN</td>\n",
       "      <td>S</td>\n",
       "    </tr>\n",
       "    <tr>\n",
       "      <th>414</th>\n",
       "      <td>1306</td>\n",
       "      <td>1</td>\n",
       "      <td>1</td>\n",
       "      <td>Oliva y Ocana, Dona. Fermina</td>\n",
       "      <td>female</td>\n",
       "      <td>39.0</td>\n",
       "      <td>0</td>\n",
       "      <td>0</td>\n",
       "      <td>PC 17758</td>\n",
       "      <td>108.9000</td>\n",
       "      <td>C105</td>\n",
       "      <td>C</td>\n",
       "    </tr>\n",
       "    <tr>\n",
       "      <th>415</th>\n",
       "      <td>1307</td>\n",
       "      <td>0</td>\n",
       "      <td>3</td>\n",
       "      <td>Saether, Mr. Simon Sivertsen</td>\n",
       "      <td>male</td>\n",
       "      <td>38.5</td>\n",
       "      <td>0</td>\n",
       "      <td>0</td>\n",
       "      <td>SOTON/O.Q. 3101262</td>\n",
       "      <td>7.2500</td>\n",
       "      <td>NaN</td>\n",
       "      <td>S</td>\n",
       "    </tr>\n",
       "    <tr>\n",
       "      <th>416</th>\n",
       "      <td>1308</td>\n",
       "      <td>0</td>\n",
       "      <td>3</td>\n",
       "      <td>Ware, Mr. Frederick</td>\n",
       "      <td>male</td>\n",
       "      <td>NaN</td>\n",
       "      <td>0</td>\n",
       "      <td>0</td>\n",
       "      <td>359309</td>\n",
       "      <td>8.0500</td>\n",
       "      <td>NaN</td>\n",
       "      <td>S</td>\n",
       "    </tr>\n",
       "    <tr>\n",
       "      <th>417</th>\n",
       "      <td>1309</td>\n",
       "      <td>0</td>\n",
       "      <td>3</td>\n",
       "      <td>Peter, Master. Michael J</td>\n",
       "      <td>male</td>\n",
       "      <td>NaN</td>\n",
       "      <td>1</td>\n",
       "      <td>1</td>\n",
       "      <td>2668</td>\n",
       "      <td>22.3583</td>\n",
       "      <td>NaN</td>\n",
       "      <td>C</td>\n",
       "    </tr>\n",
       "  </tbody>\n",
       "</table>\n",
       "<p>418 rows × 12 columns</p>\n",
       "</div>"
      ],
      "text/plain": [
       "     PassengerId  Survived  Pclass  \\\n",
       "0            892         0       3   \n",
       "1            893         1       3   \n",
       "2            894         0       2   \n",
       "3            895         0       3   \n",
       "4            896         1       3   \n",
       "..           ...       ...     ...   \n",
       "413         1305         0       3   \n",
       "414         1306         1       1   \n",
       "415         1307         0       3   \n",
       "416         1308         0       3   \n",
       "417         1309         0       3   \n",
       "\n",
       "                                             Name     Sex   Age  SibSp  Parch  \\\n",
       "0                                Kelly, Mr. James    male  34.5      0      0   \n",
       "1                Wilkes, Mrs. James (Ellen Needs)  female  47.0      1      0   \n",
       "2                       Myles, Mr. Thomas Francis    male  62.0      0      0   \n",
       "3                                Wirz, Mr. Albert    male  27.0      0      0   \n",
       "4    Hirvonen, Mrs. Alexander (Helga E Lindqvist)  female  22.0      1      1   \n",
       "..                                            ...     ...   ...    ...    ...   \n",
       "413                            Spector, Mr. Woolf    male   NaN      0      0   \n",
       "414                  Oliva y Ocana, Dona. Fermina  female  39.0      0      0   \n",
       "415                  Saether, Mr. Simon Sivertsen    male  38.5      0      0   \n",
       "416                           Ware, Mr. Frederick    male   NaN      0      0   \n",
       "417                      Peter, Master. Michael J    male   NaN      1      1   \n",
       "\n",
       "                 Ticket      Fare Cabin Embarked  \n",
       "0                330911    7.8292   NaN        Q  \n",
       "1                363272    7.0000   NaN        S  \n",
       "2                240276    9.6875   NaN        Q  \n",
       "3                315154    8.6625   NaN        S  \n",
       "4               3101298   12.2875   NaN        S  \n",
       "..                  ...       ...   ...      ...  \n",
       "413           A.5. 3236    8.0500   NaN        S  \n",
       "414            PC 17758  108.9000  C105        C  \n",
       "415  SOTON/O.Q. 3101262    7.2500   NaN        S  \n",
       "416              359309    8.0500   NaN        S  \n",
       "417                2668   22.3583   NaN        C  \n",
       "\n",
       "[418 rows x 12 columns]"
      ]
     },
     "execution_count": 3,
     "metadata": {},
     "output_type": "execute_result"
    }
   ],
   "source": [
    "df"
   ]
  },
  {
   "cell_type": "code",
   "execution_count": 4,
   "id": "456b0047",
   "metadata": {
    "execution": {
     "iopub.execute_input": "2024-04-12T07:04:35.344288Z",
     "iopub.status.busy": "2024-04-12T07:04:35.343916Z",
     "iopub.status.idle": "2024-04-12T07:04:35.365678Z",
     "shell.execute_reply": "2024-04-12T07:04:35.364511Z"
    },
    "papermill": {
     "duration": 0.037567,
     "end_time": "2024-04-12T07:04:35.368214",
     "exception": false,
     "start_time": "2024-04-12T07:04:35.330647",
     "status": "completed"
    },
    "tags": []
   },
   "outputs": [
    {
     "data": {
      "text/html": [
       "<div>\n",
       "<style scoped>\n",
       "    .dataframe tbody tr th:only-of-type {\n",
       "        vertical-align: middle;\n",
       "    }\n",
       "\n",
       "    .dataframe tbody tr th {\n",
       "        vertical-align: top;\n",
       "    }\n",
       "\n",
       "    .dataframe thead th {\n",
       "        text-align: right;\n",
       "    }\n",
       "</style>\n",
       "<table border=\"1\" class=\"dataframe\">\n",
       "  <thead>\n",
       "    <tr style=\"text-align: right;\">\n",
       "      <th></th>\n",
       "      <th>PassengerId</th>\n",
       "      <th>Survived</th>\n",
       "      <th>Pclass</th>\n",
       "      <th>Name</th>\n",
       "      <th>Sex</th>\n",
       "      <th>Age</th>\n",
       "      <th>SibSp</th>\n",
       "      <th>Parch</th>\n",
       "      <th>Ticket</th>\n",
       "      <th>Fare</th>\n",
       "      <th>Cabin</th>\n",
       "      <th>Embarked</th>\n",
       "    </tr>\n",
       "  </thead>\n",
       "  <tbody>\n",
       "    <tr>\n",
       "      <th>0</th>\n",
       "      <td>False</td>\n",
       "      <td>False</td>\n",
       "      <td>False</td>\n",
       "      <td>False</td>\n",
       "      <td>False</td>\n",
       "      <td>False</td>\n",
       "      <td>False</td>\n",
       "      <td>False</td>\n",
       "      <td>False</td>\n",
       "      <td>False</td>\n",
       "      <td>True</td>\n",
       "      <td>False</td>\n",
       "    </tr>\n",
       "    <tr>\n",
       "      <th>1</th>\n",
       "      <td>False</td>\n",
       "      <td>False</td>\n",
       "      <td>False</td>\n",
       "      <td>False</td>\n",
       "      <td>False</td>\n",
       "      <td>False</td>\n",
       "      <td>False</td>\n",
       "      <td>False</td>\n",
       "      <td>False</td>\n",
       "      <td>False</td>\n",
       "      <td>True</td>\n",
       "      <td>False</td>\n",
       "    </tr>\n",
       "    <tr>\n",
       "      <th>2</th>\n",
       "      <td>False</td>\n",
       "      <td>False</td>\n",
       "      <td>False</td>\n",
       "      <td>False</td>\n",
       "      <td>False</td>\n",
       "      <td>False</td>\n",
       "      <td>False</td>\n",
       "      <td>False</td>\n",
       "      <td>False</td>\n",
       "      <td>False</td>\n",
       "      <td>True</td>\n",
       "      <td>False</td>\n",
       "    </tr>\n",
       "    <tr>\n",
       "      <th>3</th>\n",
       "      <td>False</td>\n",
       "      <td>False</td>\n",
       "      <td>False</td>\n",
       "      <td>False</td>\n",
       "      <td>False</td>\n",
       "      <td>False</td>\n",
       "      <td>False</td>\n",
       "      <td>False</td>\n",
       "      <td>False</td>\n",
       "      <td>False</td>\n",
       "      <td>True</td>\n",
       "      <td>False</td>\n",
       "    </tr>\n",
       "    <tr>\n",
       "      <th>4</th>\n",
       "      <td>False</td>\n",
       "      <td>False</td>\n",
       "      <td>False</td>\n",
       "      <td>False</td>\n",
       "      <td>False</td>\n",
       "      <td>False</td>\n",
       "      <td>False</td>\n",
       "      <td>False</td>\n",
       "      <td>False</td>\n",
       "      <td>False</td>\n",
       "      <td>True</td>\n",
       "      <td>False</td>\n",
       "    </tr>\n",
       "    <tr>\n",
       "      <th>...</th>\n",
       "      <td>...</td>\n",
       "      <td>...</td>\n",
       "      <td>...</td>\n",
       "      <td>...</td>\n",
       "      <td>...</td>\n",
       "      <td>...</td>\n",
       "      <td>...</td>\n",
       "      <td>...</td>\n",
       "      <td>...</td>\n",
       "      <td>...</td>\n",
       "      <td>...</td>\n",
       "      <td>...</td>\n",
       "    </tr>\n",
       "    <tr>\n",
       "      <th>413</th>\n",
       "      <td>False</td>\n",
       "      <td>False</td>\n",
       "      <td>False</td>\n",
       "      <td>False</td>\n",
       "      <td>False</td>\n",
       "      <td>True</td>\n",
       "      <td>False</td>\n",
       "      <td>False</td>\n",
       "      <td>False</td>\n",
       "      <td>False</td>\n",
       "      <td>True</td>\n",
       "      <td>False</td>\n",
       "    </tr>\n",
       "    <tr>\n",
       "      <th>414</th>\n",
       "      <td>False</td>\n",
       "      <td>False</td>\n",
       "      <td>False</td>\n",
       "      <td>False</td>\n",
       "      <td>False</td>\n",
       "      <td>False</td>\n",
       "      <td>False</td>\n",
       "      <td>False</td>\n",
       "      <td>False</td>\n",
       "      <td>False</td>\n",
       "      <td>False</td>\n",
       "      <td>False</td>\n",
       "    </tr>\n",
       "    <tr>\n",
       "      <th>415</th>\n",
       "      <td>False</td>\n",
       "      <td>False</td>\n",
       "      <td>False</td>\n",
       "      <td>False</td>\n",
       "      <td>False</td>\n",
       "      <td>False</td>\n",
       "      <td>False</td>\n",
       "      <td>False</td>\n",
       "      <td>False</td>\n",
       "      <td>False</td>\n",
       "      <td>True</td>\n",
       "      <td>False</td>\n",
       "    </tr>\n",
       "    <tr>\n",
       "      <th>416</th>\n",
       "      <td>False</td>\n",
       "      <td>False</td>\n",
       "      <td>False</td>\n",
       "      <td>False</td>\n",
       "      <td>False</td>\n",
       "      <td>True</td>\n",
       "      <td>False</td>\n",
       "      <td>False</td>\n",
       "      <td>False</td>\n",
       "      <td>False</td>\n",
       "      <td>True</td>\n",
       "      <td>False</td>\n",
       "    </tr>\n",
       "    <tr>\n",
       "      <th>417</th>\n",
       "      <td>False</td>\n",
       "      <td>False</td>\n",
       "      <td>False</td>\n",
       "      <td>False</td>\n",
       "      <td>False</td>\n",
       "      <td>True</td>\n",
       "      <td>False</td>\n",
       "      <td>False</td>\n",
       "      <td>False</td>\n",
       "      <td>False</td>\n",
       "      <td>True</td>\n",
       "      <td>False</td>\n",
       "    </tr>\n",
       "  </tbody>\n",
       "</table>\n",
       "<p>418 rows × 12 columns</p>\n",
       "</div>"
      ],
      "text/plain": [
       "     PassengerId  Survived  Pclass   Name    Sex    Age  SibSp  Parch  Ticket  \\\n",
       "0          False     False   False  False  False  False  False  False   False   \n",
       "1          False     False   False  False  False  False  False  False   False   \n",
       "2          False     False   False  False  False  False  False  False   False   \n",
       "3          False     False   False  False  False  False  False  False   False   \n",
       "4          False     False   False  False  False  False  False  False   False   \n",
       "..           ...       ...     ...    ...    ...    ...    ...    ...     ...   \n",
       "413        False     False   False  False  False   True  False  False   False   \n",
       "414        False     False   False  False  False  False  False  False   False   \n",
       "415        False     False   False  False  False  False  False  False   False   \n",
       "416        False     False   False  False  False   True  False  False   False   \n",
       "417        False     False   False  False  False   True  False  False   False   \n",
       "\n",
       "      Fare  Cabin  Embarked  \n",
       "0    False   True     False  \n",
       "1    False   True     False  \n",
       "2    False   True     False  \n",
       "3    False   True     False  \n",
       "4    False   True     False  \n",
       "..     ...    ...       ...  \n",
       "413  False   True     False  \n",
       "414  False  False     False  \n",
       "415  False   True     False  \n",
       "416  False   True     False  \n",
       "417  False   True     False  \n",
       "\n",
       "[418 rows x 12 columns]"
      ]
     },
     "execution_count": 4,
     "metadata": {},
     "output_type": "execute_result"
    }
   ],
   "source": [
    "df.isnull()\n",
    "\n",
    "#checking for null values"
   ]
  },
  {
   "cell_type": "code",
   "execution_count": 5,
   "id": "881ca20c",
   "metadata": {
    "execution": {
     "iopub.execute_input": "2024-04-12T07:04:35.394563Z",
     "iopub.status.busy": "2024-04-12T07:04:35.394105Z",
     "iopub.status.idle": "2024-04-12T07:04:35.676885Z",
     "shell.execute_reply": "2024-04-12T07:04:35.675524Z"
    },
    "papermill": {
     "duration": 0.298747,
     "end_time": "2024-04-12T07:04:35.679298",
     "exception": false,
     "start_time": "2024-04-12T07:04:35.380551",
     "status": "completed"
    },
    "tags": []
   },
   "outputs": [
    {
     "data": {
      "text/plain": [
       "<Axes: >"
      ]
     },
     "execution_count": 5,
     "metadata": {},
     "output_type": "execute_result"
    },
    {
     "data": {
      "image/png": "[encoded data removed]",
      "text/plain": [
       "<Figure size 640x480 with 1 Axes>"
      ]
     },
     "metadata": {},
     "output_type": "display_data"
    }
   ],
   "source": [
    "sns.heatmap(df.isnull(), yticklabels = False , cbar = False, cmap = 'viridis')"
   ]
  },
  {
   "cell_type": "markdown",
   "id": "53eceef0",
   "metadata": {
    "papermill": {
     "duration": 0.012626,
     "end_time": "2024-04-12T07:04:35.704956",
     "exception": false,
     "start_time": "2024-04-12T07:04:35.692330",
     "status": "completed"
    },
    "tags": []
   },
   "source": [
    "20% of data is missing in age. proportion of age missing is likely small enough for replacement. looking at the cabin column we are just missing too much data to do something useful. We'll probably drop this or change it to another feature like \"cabin known \"1 or 0\""
   ]
  },
  {
   "cell_type": "code",
   "execution_count": 6,
   "id": "678dfb27",
   "metadata": {
    "execution": {
     "iopub.execute_input": "2024-04-12T07:04:35.733635Z",
     "iopub.status.busy": "2024-04-12T07:04:35.733241Z",
     "iopub.status.idle": "2024-04-12T07:04:36.043658Z",
     "shell.execute_reply": "2024-04-12T07:04:36.042472Z"
    },
    "papermill": {
     "duration": 0.328346,
     "end_time": "2024-04-12T07:04:36.047353",
     "exception": false,
     "start_time": "2024-04-12T07:04:35.719007",
     "status": "completed"
    },
    "tags": []
   },
   "outputs": [
    {
     "data": {
      "text/plain": [
       "<Axes: xlabel='Survived', ylabel='count'>"
      ]
     },
     "execution_count": 6,
     "metadata": {},
     "output_type": "execute_result"
    },
    {
     "data": {
      "image/png": "[encoded data removed]",
      "text/plain": [
       "<Figure size 640x480 with 1 Axes>"
      ]
     },
     "metadata": {},
     "output_type": "display_data"
    }
   ],
   "source": [
    "sns.countplot(x = \"Survived\", data = df)"
   ]
  },
  {
   "cell_type": "code",
   "execution_count": 7,
   "id": "e1883b9b",
   "metadata": {
    "execution": {
     "iopub.execute_input": "2024-04-12T07:04:36.077473Z",
     "iopub.status.busy": "2024-04-12T07:04:36.077069Z",
     "iopub.status.idle": "2024-04-12T07:04:36.353885Z",
     "shell.execute_reply": "2024-04-12T07:04:36.352395Z"
    },
    "papermill": {
     "duration": 0.294901,
     "end_time": "2024-04-12T07:04:36.356957",
     "exception": false,
     "start_time": "2024-04-12T07:04:36.062056",
     "status": "completed"
    },
    "tags": []
   },
   "outputs": [
    {
     "data": {
      "text/plain": [
       "<Axes: xlabel='Survived', ylabel='count'>"
      ]
     },
     "execution_count": 7,
     "metadata": {},
     "output_type": "execute_result"
    },
    {
     "data": {
      "image/png": "[encoded data removed]",
      "text/plain": [
       "<Figure size 640x480 with 1 Axes>"
      ]
     },
     "metadata": {},
     "output_type": "display_data"
    }
   ],
   "source": [
    "sns.countplot( x = \"Survived\", hue = 'Sex', data = df)\\\n",
    "#checking surviavlity on the basis of sex"
   ]
  },
  {
   "cell_type": "code",
   "execution_count": 8,
   "id": "aefb2f2f",
   "metadata": {
    "execution": {
     "iopub.execute_input": "2024-04-12T07:04:36.387385Z",
     "iopub.status.busy": "2024-04-12T07:04:36.386989Z",
     "iopub.status.idle": "2024-04-12T07:04:36.686909Z",
     "shell.execute_reply": "2024-04-12T07:04:36.685749Z"
    },
    "papermill": {
     "duration": 0.318491,
     "end_time": "2024-04-12T07:04:36.689747",
     "exception": false,
     "start_time": "2024-04-12T07:04:36.371256",
     "status": "completed"
    },
    "tags": []
   },
   "outputs": [
    {
     "data": {
      "text/plain": [
       "<Axes: xlabel='Survived', ylabel='count'>"
      ]
     },
     "execution_count": 8,
     "metadata": {},
     "output_type": "execute_result"
    },
    {
     "data": {
      "image/png": "[encoded data removed]",
      "text/plain": [
       "<Figure size 640x480 with 1 Axes>"
      ]
     },
     "metadata": {},
     "output_type": "display_data"
    }
   ],
   "source": [
    "sns.countplot(x = \"Survived\", hue = 'Pclass', data  = df)\n",
    "#checking surviavlity on the basis of passenger clas"
   ]
  },
  {
   "cell_type": "code",
   "execution_count": 9,
   "id": "066f2562",
   "metadata": {
    "execution": {
     "iopub.execute_input": "2024-04-12T07:04:36.721106Z",
     "iopub.status.busy": "2024-04-12T07:04:36.720647Z",
     "iopub.status.idle": "2024-04-12T07:04:37.065751Z",
     "shell.execute_reply": "2024-04-12T07:04:37.064525Z"
    },
    "papermill": {
     "duration": 0.363983,
     "end_time": "2024-04-12T07:04:37.068228",
     "exception": false,
     "start_time": "2024-04-12T07:04:36.704245",
     "status": "completed"
    },
    "tags": []
   },
   "outputs": [
    {
     "name": "stderr",
     "output_type": "stream",
     "text": [
      "/tmp/ipykernel_18/2897649060.py:1: UserWarning: \n",
      "\n",
      "`distplot` is a deprecated function and will be removed in seaborn v0.14.0.\n",
      "\n",
      "Please adapt your code to use either `displot` (a figure-level function with\n",
      "similar flexibility) or `histplot` (an axes-level function for histograms).\n",
      "\n",
      "For a guide to updating your code to use the new functions, please see\n",
      "https://gist.github.com/mwaskom/de44147ed2974457ad6372750bbe5751\n",
      "\n",
      "  sns.distplot(df['Age'].dropna(), kde = False, color = 'red', bins = 30)\n"
     ]
    },
    {
     "data": {
      "text/plain": [
       "<Axes: xlabel='Age'>"
      ]
     },
     "execution_count": 9,
     "metadata": {},
     "output_type": "execute_result"
    },
    {
     "data": {
      "image/png": "[encoded data removed]",
      "text/plain": [
       "<Figure size 640x480 with 1 Axes>"
      ]
     },
     "metadata": {},
     "output_type": "display_data"
    }
   ],
   "source": [
    "sns.distplot(df['Age'].dropna(), kde = False, color = 'red', bins = 30)\n",
    "#distribution plot will helps us to detemine the average age on the ship"
   ]
  },
  {
   "cell_type": "code",
   "execution_count": 10,
   "id": "1bbebbbc",
   "metadata": {
    "execution": {
     "iopub.execute_input": "2024-04-12T07:04:37.099939Z",
     "iopub.status.busy": "2024-04-12T07:04:37.099425Z",
     "iopub.status.idle": "2024-04-12T07:04:37.367925Z",
     "shell.execute_reply": "2024-04-12T07:04:37.366630Z"
    },
    "papermill": {
     "duration": 0.28738,
     "end_time": "2024-04-12T07:04:37.370539",
     "exception": false,
     "start_time": "2024-04-12T07:04:37.083159",
     "status": "completed"
    },
    "tags": []
   },
   "outputs": [
    {
     "data": {
      "text/plain": [
       "<Axes: xlabel='SibSp', ylabel='count'>"
      ]
     },
     "execution_count": 10,
     "metadata": {},
     "output_type": "execute_result"
    },
    {
     "data": {
      "image/png": "[encoded data removed]",
      "text/plain": [
       "<Figure size 640x480 with 1 Axes>"
      ]
     },
     "metadata": {},
     "output_type": "display_data"
    }
   ],
   "source": [
    "sns.countplot(x = \"SibSp\", data  =df)"
   ]
  },
  {
   "cell_type": "code",
   "execution_count": 11,
   "id": "9360fa94",
   "metadata": {
    "execution": {
     "iopub.execute_input": "2024-04-12T07:04:37.405171Z",
     "iopub.status.busy": "2024-04-12T07:04:37.404752Z",
     "iopub.status.idle": "2024-04-12T07:04:37.759111Z",
     "shell.execute_reply": "2024-04-12T07:04:37.757854Z"
    },
    "papermill": {
     "duration": 0.374886,
     "end_time": "2024-04-12T07:04:37.761749",
     "exception": false,
     "start_time": "2024-04-12T07:04:37.386863",
     "status": "completed"
    },
    "tags": []
   },
   "outputs": [
    {
     "data": {
      "text/plain": [
       "<Axes: >"
      ]
     },
     "execution_count": 11,
     "metadata": {},
     "output_type": "execute_result"
    },
    {
     "data": {
      "image/png": "[encoded data removed]",
      "text/plain": [
       "<Figure size 640x480 with 1 Axes>"
      ]
     },
     "metadata": {},
     "output_type": "display_data"
    }
   ],
   "source": [
    "df['Fare'].hist(color = 'green', bins = 40)"
   ]
  },
  {
   "cell_type": "markdown",
   "id": "1b0102f2",
   "metadata": {
    "papermill": {
     "duration": 0.015048,
     "end_time": "2024-04-12T07:04:37.792203",
     "exception": false,
     "start_time": "2024-04-12T07:04:37.777155",
     "status": "completed"
    },
    "tags": []
   },
   "source": [
    "Now we will do data cleaning"
   ]
  },
  {
   "cell_type": "code",
   "execution_count": 12,
   "id": "11c9025f",
   "metadata": {
    "execution": {
     "iopub.execute_input": "2024-04-12T07:04:37.825714Z",
     "iopub.status.busy": "2024-04-12T07:04:37.825098Z",
     "iopub.status.idle": "2024-04-12T07:04:38.113379Z",
     "shell.execute_reply": "2024-04-12T07:04:38.112256Z"
    },
    "papermill": {
     "duration": 0.308099,
     "end_time": "2024-04-12T07:04:38.115784",
     "exception": false,
     "start_time": "2024-04-12T07:04:37.807685",
     "status": "completed"
    },
    "tags": []
   },
   "outputs": [
    {
     "data": {
      "text/plain": [
       "<Axes: xlabel='Pclass', ylabel='Age'>"
      ]
     },
     "execution_count": 12,
     "metadata": {},
     "output_type": "execute_result"
    },
    {
     "data": {
      "image/png": "[encoded data removed]",
      "text/plain": [
       "<Figure size 640x480 with 1 Axes>"
      ]
     },
     "metadata": {},
     "output_type": "display_data"
    }
   ],
   "source": [
    "sns.boxplot(x = \"Pclass\", y = \"Age\", data = df)\n",
    "#as we know null values are present in age and cabin column"
   ]
  },
  {
   "cell_type": "markdown",
   "id": "72f33ce7",
   "metadata": {
    "papermill": {
     "duration": 0.016138,
     "end_time": "2024-04-12T07:04:38.148399",
     "exception": false,
     "start_time": "2024-04-12T07:04:38.132261",
     "status": "completed"
    },
    "tags": []
   },
   "source": [
    "we can see the wealthier person in the higher classes tend to be older"
   ]
  },
  {
   "cell_type": "code",
   "execution_count": 13,
   "id": "2c318b18",
   "metadata": {
    "execution": {
     "iopub.execute_input": "2024-04-12T07:04:38.190896Z",
     "iopub.status.busy": "2024-04-12T07:04:38.190004Z",
     "iopub.status.idle": "2024-04-12T07:04:38.200117Z",
     "shell.execute_reply": "2024-04-12T07:04:38.198803Z"
    },
    "papermill": {
     "duration": 0.037304,
     "end_time": "2024-04-12T07:04:38.203351",
     "exception": false,
     "start_time": "2024-04-12T07:04:38.166047",
     "status": "completed"
    },
    "tags": []
   },
   "outputs": [],
   "source": [
    "def impute_age(cols):\n",
    "    Age = cols[0]\n",
    "    Pclass = cols[1]\n",
    "    \n",
    "    if pd.isnull(Age):\n",
    "        \n",
    "        if Pclass ==1:\n",
    "            return 37\n",
    "\n",
    "        elif Pclass == 2:\n",
    "            return 29\n",
    "    \n",
    "        else:\n",
    "            return 24\n",
    "        \n",
    "    else:\n",
    "        return Age\n",
    "#As we have seen from the above boxplot the average age in Pclass 1 is 37,avg age in Pclass 2 is 29 and Pclass 3 is 24 so we are repalcing nan values with avg age"
   ]
  },
  {
   "cell_type": "code",
   "execution_count": 14,
   "id": "80c215c9",
   "metadata": {
    "execution": {
     "iopub.execute_input": "2024-04-12T07:04:38.244652Z",
     "iopub.status.busy": "2024-04-12T07:04:38.244219Z",
     "iopub.status.idle": "2024-04-12T07:04:38.277087Z",
     "shell.execute_reply": "2024-04-12T07:04:38.275194Z"
    },
    "papermill": {
     "duration": 0.054686,
     "end_time": "2024-04-12T07:04:38.279655",
     "exception": false,
     "start_time": "2024-04-12T07:04:38.224969",
     "status": "completed"
    },
    "tags": []
   },
   "outputs": [
    {
     "name": "stderr",
     "output_type": "stream",
     "text": [
      "/tmp/ipykernel_18/2163412085.py:2: FutureWarning: Series.__getitem__ treating keys as positions is deprecated. In a future version, integer keys will always be treated as labels (consistent with DataFrame behavior). To access a value by position, use `ser.iloc[pos]`\n",
      "  Age = cols[0]\n",
      "/tmp/ipykernel_18/2163412085.py:3: FutureWarning: Series.__getitem__ treating keys as positions is deprecated. In a future version, integer keys will always be treated as labels (consistent with DataFrame behavior). To access a value by position, use `ser.iloc[pos]`\n",
      "  Pclass = cols[1]\n"
     ]
    }
   ],
   "source": [
    "df['Age'] = df [[\"Age\", \"Pclass\"]].apply(impute_age, axis  = 1)"
   ]
  },
  {
   "cell_type": "code",
   "execution_count": 15,
   "id": "84bdc7ef",
   "metadata": {
    "execution": {
     "iopub.execute_input": "2024-04-12T07:04:38.319931Z",
     "iopub.status.busy": "2024-04-12T07:04:38.318582Z",
     "iopub.status.idle": "2024-04-12T07:04:38.718003Z",
     "shell.execute_reply": "2024-04-12T07:04:38.716761Z"
    },
    "papermill": {
     "duration": 0.424282,
     "end_time": "2024-04-12T07:04:38.720673",
     "exception": false,
     "start_time": "2024-04-12T07:04:38.296391",
     "status": "completed"
    },
    "tags": []
   },
   "outputs": [
    {
     "data": {
      "text/plain": [
       "<Axes: >"
      ]
     },
     "execution_count": 15,
     "metadata": {},
     "output_type": "execute_result"
    },
    {
     "data": {
      "image/png": "[encoded data removed]",
      "text/plain": [
       "<Figure size 640x480 with 2 Axes>"
      ]
     },
     "metadata": {},
     "output_type": "display_data"
    }
   ],
   "source": [
    "sns.heatmap(df.isnull(), yticklabels = False)"
   ]
  },
  {
   "cell_type": "markdown",
   "id": "6b44b51e",
   "metadata": {
    "papermill": {
     "duration": 0.018835,
     "end_time": "2024-04-12T07:04:38.756495",
     "exception": false,
     "start_time": "2024-04-12T07:04:38.737660",
     "status": "completed"
    },
    "tags": []
   },
   "source": [
    "Now here we can see that there is no null values in Age"
   ]
  },
  {
   "cell_type": "markdown",
   "id": "65c6170d",
   "metadata": {
    "papermill": {
     "duration": 0.016423,
     "end_time": "2024-04-12T07:04:38.789620",
     "exception": false,
     "start_time": "2024-04-12T07:04:38.773197",
     "status": "completed"
    },
    "tags": []
   },
   "source": [
    "One nan value is presnt in fare we will replace it with average"
   ]
  },
  {
   "cell_type": "code",
   "execution_count": 16,
   "id": "cb0e244e",
   "metadata": {
    "execution": {
     "iopub.execute_input": "2024-04-12T07:04:38.824690Z",
     "iopub.status.busy": "2024-04-12T07:04:38.824262Z",
     "iopub.status.idle": "2024-04-12T07:04:39.320275Z",
     "shell.execute_reply": "2024-04-12T07:04:39.318687Z"
    },
    "papermill": {
     "duration": 0.516384,
     "end_time": "2024-04-12T07:04:39.322782",
     "exception": true,
     "start_time": "2024-04-12T07:04:38.806398",
     "status": "failed"
    },
    "tags": []
   },
   "outputs": [
    {
     "ename": "NameError",
     "evalue": "name 'inputs' is not defined",
     "output_type": "error",
     "traceback": [
      "\u001b[0;31m---------------------------------------------------------------------------\u001b[0m",
      "\u001b[0;31mNameError\u001b[0m                                 Traceback (most recent call last)",
      "Cell \u001b[0;32mIn[16], line 1\u001b[0m\n\u001b[0;32m----> 1\u001b[0m df\u001b[38;5;241m.\u001b[39mFare \u001b[38;5;241m=\u001b[39m df\u001b[38;5;241m.\u001b[39mFare\u001b[38;5;241m.\u001b[39mfillna(\u001b[43minputs\u001b[49m\u001b[38;5;241m.\u001b[39mFare\u001b[38;5;241m.\u001b[39mmean())\n\u001b[1;32m      3\u001b[0m df\u001b[38;5;241m.\u001b[39misna()\u001b[38;5;241m.\u001b[39msum()\n",
      "\u001b[0;31mNameError\u001b[0m: name 'inputs' is not defined"
     ]
    }
   ],
   "source": [
    "df.Fare = df.Fare.fillna(inputs.Fare.mean())\n",
    "\n",
    "df.isna().sum()"
   ]
  },
  {
   "cell_type": "code",
   "execution_count": null,
   "id": "3e1f1412",
   "metadata": {
    "execution": {
     "iopub.execute_input": "2024-04-12T06:47:16.842367Z",
     "iopub.status.busy": "2024-04-12T06:47:16.841596Z",
     "iopub.status.idle": "2024-04-12T06:47:16.851296Z",
     "shell.execute_reply": "2024-04-12T06:47:16.849311Z",
     "shell.execute_reply.started": "2024-04-12T06:47:16.842315Z"
    },
    "papermill": {
     "duration": null,
     "end_time": null,
     "exception": null,
     "start_time": null,
     "status": "pending"
    },
    "tags": []
   },
   "outputs": [],
   "source": [
    "df.drop(['PassengerId','Name','SibSp' ,'Ticket', 'Embarked', 'Parch', 'Cabin'], axis= 'columns', inplace = True)"
   ]
  },
  {
   "cell_type": "code",
   "execution_count": null,
   "id": "be85415d",
   "metadata": {
    "execution": {
     "iopub.execute_input": "2024-04-12T07:00:19.813889Z",
     "iopub.status.busy": "2024-04-12T07:00:19.813376Z",
     "iopub.status.idle": "2024-04-12T07:00:19.831741Z",
     "shell.execute_reply": "2024-04-12T07:00:19.830344Z",
     "shell.execute_reply.started": "2024-04-12T07:00:19.813847Z"
    },
    "papermill": {
     "duration": null,
     "end_time": null,
     "exception": null,
     "start_time": null,
     "status": "pending"
    },
    "tags": []
   },
   "outputs": [],
   "source": [
    "df"
   ]
  },
  {
   "cell_type": "code",
   "execution_count": null,
   "id": "d0408f72",
   "metadata": {
    "execution": {
     "iopub.execute_input": "2024-04-12T06:47:28.746154Z",
     "iopub.status.busy": "2024-04-12T06:47:28.745676Z",
     "iopub.status.idle": "2024-04-12T06:47:28.754634Z",
     "shell.execute_reply": "2024-04-12T06:47:28.752739Z",
     "shell.execute_reply.started": "2024-04-12T06:47:28.746119Z"
    },
    "papermill": {
     "duration": null,
     "end_time": null,
     "exception": null,
     "start_time": null,
     "status": "pending"
    },
    "tags": []
   },
   "outputs": [],
   "source": [
    "inputs  = df.drop(['Survived'], axis = 'columns')\n",
    "target = df.Survived"
   ]
  },
  {
   "cell_type": "code",
   "execution_count": null,
   "id": "d91a0ec2",
   "metadata": {
    "execution": {
     "iopub.execute_input": "2024-04-12T06:47:31.248668Z",
     "iopub.status.busy": "2024-04-12T06:47:31.248197Z",
     "iopub.status.idle": "2024-04-12T06:47:31.257271Z",
     "shell.execute_reply": "2024-04-12T06:47:31.256072Z",
     "shell.execute_reply.started": "2024-04-12T06:47:31.248632Z"
    },
    "papermill": {
     "duration": null,
     "end_time": null,
     "exception": null,
     "start_time": null,
     "status": "pending"
    },
    "tags": []
   },
   "outputs": [],
   "source": [
    "inputs.Sex = inputs.Sex.map({'male' : 1 ,'female': 2})"
   ]
  },
  {
   "cell_type": "code",
   "execution_count": null,
   "id": "7b177c63",
   "metadata": {
    "execution": {
     "iopub.execute_input": "2024-04-12T06:47:32.793833Z",
     "iopub.status.busy": "2024-04-12T06:47:32.793390Z",
     "iopub.status.idle": "2024-04-12T06:47:32.806475Z",
     "shell.execute_reply": "2024-04-12T06:47:32.804672Z",
     "shell.execute_reply.started": "2024-04-12T06:47:32.793788Z"
    },
    "papermill": {
     "duration": null,
     "end_time": null,
     "exception": null,
     "start_time": null,
     "status": "pending"
    },
    "tags": []
   },
   "outputs": [],
   "source": [
    "inputs.Age[:10]"
   ]
  },
  {
   "cell_type": "code",
   "execution_count": null,
   "id": "5f2fc10d",
   "metadata": {
    "execution": {
     "iopub.execute_input": "2024-04-12T06:47:35.259205Z",
     "iopub.status.busy": "2024-04-12T06:47:35.258698Z",
     "iopub.status.idle": "2024-04-12T06:47:35.277262Z",
     "shell.execute_reply": "2024-04-12T06:47:35.275495Z",
     "shell.execute_reply.started": "2024-04-12T06:47:35.259169Z"
    },
    "papermill": {
     "duration": null,
     "end_time": null,
     "exception": null,
     "start_time": null,
     "status": "pending"
    },
    "tags": []
   },
   "outputs": [],
   "source": [
    "inputs.head()"
   ]
  },
  {
   "cell_type": "markdown",
   "id": "00759efb",
   "metadata": {
    "papermill": {
     "duration": null,
     "end_time": null,
     "exception": null,
     "start_time": null,
     "status": "pending"
    },
    "tags": []
   },
   "source": [
    ".isnan()We will now do train_test_split"
   ]
  },
  {
   "cell_type": "code",
   "execution_count": null,
   "id": "39e361e7",
   "metadata": {
    "execution": {
     "iopub.execute_input": "2024-04-12T06:47:37.442435Z",
     "iopub.status.busy": "2024-04-12T06:47:37.441970Z",
     "iopub.status.idle": "2024-04-12T06:47:37.448792Z",
     "shell.execute_reply": "2024-04-12T06:47:37.446961Z",
     "shell.execute_reply.started": "2024-04-12T06:47:37.442401Z"
    },
    "papermill": {
     "duration": null,
     "end_time": null,
     "exception": null,
     "start_time": null,
     "status": "pending"
    },
    "tags": []
   },
   "outputs": [],
   "source": [
    "from sklearn.model_selection import train_test_split\n"
   ]
  },
  {
   "cell_type": "code",
   "execution_count": null,
   "id": "fe17f6aa",
   "metadata": {
    "execution": {
     "iopub.execute_input": "2024-04-12T07:01:36.333928Z",
     "iopub.status.busy": "2024-04-12T07:01:36.333115Z",
     "iopub.status.idle": "2024-04-12T07:01:36.341474Z",
     "shell.execute_reply": "2024-04-12T07:01:36.339809Z",
     "shell.execute_reply.started": "2024-04-12T07:01:36.333888Z"
    },
    "papermill": {
     "duration": null,
     "end_time": null,
     "exception": null,
     "start_time": null,
     "status": "pending"
    },
    "tags": []
   },
   "outputs": [],
   "source": [
    "x_train, x_test, y_train, y_test = train_test_split(inputs, target , test_size =0.2 )"
   ]
  },
  {
   "cell_type": "code",
   "execution_count": null,
   "id": "8a7b5b5b",
   "metadata": {
    "execution": {
     "iopub.execute_input": "2024-04-12T07:01:38.366629Z",
     "iopub.status.busy": "2024-04-12T07:01:38.366194Z",
     "iopub.status.idle": "2024-04-12T07:01:38.384303Z",
     "shell.execute_reply": "2024-04-12T07:01:38.382407Z",
     "shell.execute_reply.started": "2024-04-12T07:01:38.366596Z"
    },
    "papermill": {
     "duration": null,
     "end_time": null,
     "exception": null,
     "start_time": null,
     "status": "pending"
    },
    "tags": []
   },
   "outputs": [],
   "source": [
    "x_train"
   ]
  },
  {
   "cell_type": "code",
   "execution_count": null,
   "id": "ded6c90a",
   "metadata": {
    "execution": {
     "iopub.execute_input": "2024-04-12T07:01:40.423400Z",
     "iopub.status.busy": "2024-04-12T07:01:40.422933Z",
     "iopub.status.idle": "2024-04-12T07:01:40.432715Z",
     "shell.execute_reply": "2024-04-12T07:01:40.431123Z",
     "shell.execute_reply.started": "2024-04-12T07:01:40.423358Z"
    },
    "papermill": {
     "duration": null,
     "end_time": null,
     "exception": null,
     "start_time": null,
     "status": "pending"
    },
    "tags": []
   },
   "outputs": [],
   "source": [
    "len(x_test)"
   ]
  },
  {
   "cell_type": "code",
   "execution_count": null,
   "id": "96a903b3",
   "metadata": {
    "execution": {
     "iopub.execute_input": "2024-04-12T07:01:43.824937Z",
     "iopub.status.busy": "2024-04-12T07:01:43.824454Z",
     "iopub.status.idle": "2024-04-12T07:01:43.830696Z",
     "shell.execute_reply": "2024-04-12T07:01:43.829395Z",
     "shell.execute_reply.started": "2024-04-12T07:01:43.824899Z"
    },
    "papermill": {
     "duration": null,
     "end_time": null,
     "exception": null,
     "start_time": null,
     "status": "pending"
    },
    "tags": []
   },
   "outputs": [],
   "source": [
    "from sklearn import tree\n",
    "model = tree.DecisionTreeClassifier()"
   ]
  },
  {
   "cell_type": "code",
   "execution_count": null,
   "id": "d10d6ac1",
   "metadata": {
    "execution": {
     "iopub.execute_input": "2024-04-12T07:01:45.311574Z",
     "iopub.status.busy": "2024-04-12T07:01:45.311094Z",
     "iopub.status.idle": "2024-04-12T07:01:45.327940Z",
     "shell.execute_reply": "2024-04-12T07:01:45.325898Z",
     "shell.execute_reply.started": "2024-04-12T07:01:45.311535Z"
    },
    "papermill": {
     "duration": null,
     "end_time": null,
     "exception": null,
     "start_time": null,
     "status": "pending"
    },
    "tags": []
   },
   "outputs": [],
   "source": [
    "model.fit(x_train , y_train)"
   ]
  },
  {
   "cell_type": "code",
   "execution_count": null,
   "id": "37c38cf7",
   "metadata": {
    "execution": {
     "iopub.execute_input": "2024-04-12T07:01:47.493535Z",
     "iopub.status.busy": "2024-04-12T07:01:47.493084Z",
     "iopub.status.idle": "2024-04-12T07:01:47.505977Z",
     "shell.execute_reply": "2024-04-12T07:01:47.504004Z",
     "shell.execute_reply.started": "2024-04-12T07:01:47.493499Z"
    },
    "papermill": {
     "duration": null,
     "end_time": null,
     "exception": null,
     "start_time": null,
     "status": "pending"
    },
    "tags": []
   },
   "outputs": [],
   "source": [
    "model.score(x_train , y_train)\n",
    "#checking model accuracy"
   ]
  },
  {
   "cell_type": "code",
   "execution_count": null,
   "id": "0416b307",
   "metadata": {
    "execution": {
     "iopub.execute_input": "2024-04-12T07:00:58.020306Z",
     "iopub.status.busy": "2024-04-12T07:00:58.019878Z",
     "iopub.status.idle": "2024-04-12T07:00:58.029622Z",
     "shell.execute_reply": "2024-04-12T07:00:58.028483Z",
     "shell.execute_reply.started": "2024-04-12T07:00:58.020274Z"
    },
    "papermill": {
     "duration": null,
     "end_time": null,
     "exception": null,
     "start_time": null,
     "status": "pending"
    },
    "tags": []
   },
   "outputs": [],
   "source": []
  },
  {
   "cell_type": "markdown",
   "id": "34b786d5",
   "metadata": {
    "papermill": {
     "duration": null,
     "end_time": null,
     "exception": null,
     "start_time": null,
     "status": "pending"
    },
    "tags": []
   },
   "source": []
  }
 ],
 "metadata": {
  "kaggle": {
   "accelerator": "none",
   "dataSources": [
    {
     "datasetId": 826163,
     "sourceId": 2879186,
     "sourceType": "datasetVersion"
    }
   ],
   "dockerImageVersionId": 30673,
   "isGpuEnabled": false,
   "isInternetEnabled": false,
   "language": "python",
   "sourceType": "notebook"
  },
  "kernelspec": {
   "display_name": "Python 3",
   "language": "python",
   "name": "python3"
  },
  "language_info": {
   "codemirror_mode": {
    "name": "ipython",
    "version": 3
   },
   "file_extension": ".py",
   "mimetype": "text/x-python",
   "name": "python",
   "nbconvert_exporter": "python",
   "pygments_lexer": "ipython3",
   "version": "3.10.13"
  },
  "papermill": {
   "default_parameters": {},
   "duration": 10.252167,
   "end_time": "2024-04-12T07:04:39.960397",
   "environment_variables": {},
   "exception": true,
   "input_path": "__notebook__.ipynb",
   "output_path": "__notebook__.ipynb",
   "parameters": {},
   "start_time": "2024-04-12T07:04:29.708230",
   "version": "2.5.0"
  }
 },
 "nbformat": 4,
 "nbformat_minor": 5
}
